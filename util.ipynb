{
 "cells": [
  {
   "cell_type": "code",
   "execution_count": 2,
   "metadata": {},
   "outputs": [
    {
     "data": {
      "text/plain": [
       "pandas.core.frame.DataFrame"
      ]
     },
     "execution_count": 2,
     "metadata": {},
     "output_type": "execute_result"
    }
   ],
   "source": [
    "import os\n",
    "import pandas as pd\n",
    "pd.DataFrame"
   ]
  },
  {
   "cell_type": "code",
   "execution_count": 3,
   "metadata": {},
   "outputs": [],
   "source": [
    "group_dict = {}"
   ]
  },
  {
   "cell_type": "code",
   "execution_count": 4,
   "metadata": {},
   "outputs": [
    {
     "name": "stdout",
     "output_type": "stream",
     "text": [
      "                Patient Code     Sex  Age\n",
      "Name                                     \n",
      "John Doe               43921    Male   35\n",
      "Jane Smith             75389  Female   42\n",
      "Alice Johnson          28463  Female   28\n",
      "Bob Brown              83745    Male   50\n",
      "Carol White            92517  Female   36\n",
      "David Green            39172    Male   45\n",
      "Eva Black              48256  Female   32\n",
      "Frank Moore            61934    Male   38\n",
      "Grace Miller           27014  Female   47\n",
      "Henry Wilson           34581    Male   40\n",
      "Ian Taylor             52943    Male   54\n",
      "Jill Anderson          76125  Female   48\n",
      "Kevin Thomas           89067    Male   55\n",
      "Laura Harris           64782  Female   39\n",
      "Michael Martin         19304    Male   53\n",
      "Nancy Clark            31846  Female   49\n",
      "Oscar Lewis            45178    Male   46\n",
      "Paula Walker           59612  Female   37\n",
      "Quentin Hall           27490    Male   44\n",
      "Rachel Allen           38950  Female   52\n",
      "Steve Young            64521    Male   30\n",
      "Tina King              79234  Female   36\n",
      "Uma Scott              89173  Female   28\n",
      "Victor Hill            38592    Male   34\n",
      "Wendy Adams            26347  Female   40\n",
      "Xavier Baker           75913    Male   29\n",
      "Yolanda Perez          83569  Female   33\n",
      "Zachary Lee            46258    Male   41\n",
      "Abigail Turner         52904  Female   45\n",
      "Brian Harris           37618    Male   38\n",
      "Here\n"
     ]
    },
    {
     "ename": "KeyError",
     "evalue": "'John Doe'",
     "output_type": "error",
     "traceback": [
      "\u001b[0;31m---------------------------------------------------------------------------\u001b[0m",
      "\u001b[0;31mKeyError\u001b[0m                                  Traceback (most recent call last)",
      "File \u001b[0;32m~/Repos/proiect-biochimie/.venv/lib/python3.10/site-packages/pandas/core/indexes/base.py:3805\u001b[0m, in \u001b[0;36mIndex.get_loc\u001b[0;34m(self, key)\u001b[0m\n\u001b[1;32m   3804\u001b[0m \u001b[38;5;28;01mtry\u001b[39;00m:\n\u001b[0;32m-> 3805\u001b[0m     \u001b[38;5;28;01mreturn\u001b[39;00m \u001b[38;5;28;43mself\u001b[39;49m\u001b[38;5;241;43m.\u001b[39;49m\u001b[43m_engine\u001b[49m\u001b[38;5;241;43m.\u001b[39;49m\u001b[43mget_loc\u001b[49m\u001b[43m(\u001b[49m\u001b[43mcasted_key\u001b[49m\u001b[43m)\u001b[49m\n\u001b[1;32m   3806\u001b[0m \u001b[38;5;28;01mexcept\u001b[39;00m \u001b[38;5;167;01mKeyError\u001b[39;00m \u001b[38;5;28;01mas\u001b[39;00m err:\n",
      "File \u001b[0;32mindex.pyx:167\u001b[0m, in \u001b[0;36mpandas._libs.index.IndexEngine.get_loc\u001b[0;34m()\u001b[0m\n",
      "File \u001b[0;32mindex.pyx:196\u001b[0m, in \u001b[0;36mpandas._libs.index.IndexEngine.get_loc\u001b[0;34m()\u001b[0m\n",
      "File \u001b[0;32mpandas/_libs/hashtable_class_helper.pxi:7081\u001b[0m, in \u001b[0;36mpandas._libs.hashtable.PyObjectHashTable.get_item\u001b[0;34m()\u001b[0m\n",
      "File \u001b[0;32mpandas/_libs/hashtable_class_helper.pxi:7089\u001b[0m, in \u001b[0;36mpandas._libs.hashtable.PyObjectHashTable.get_item\u001b[0;34m()\u001b[0m\n",
      "\u001b[0;31mKeyError\u001b[0m: 'John Doe'",
      "\nThe above exception was the direct cause of the following exception:\n",
      "\u001b[0;31mKeyError\u001b[0m                                  Traceback (most recent call last)",
      "Cell \u001b[0;32mIn[4], line 16\u001b[0m\n\u001b[1;32m     14\u001b[0m get_sheets()\n\u001b[1;32m     15\u001b[0m \u001b[38;5;66;03m# print(group_dict[\"Anemia\"])\u001b[39;00m\n\u001b[0;32m---> 16\u001b[0m \u001b[38;5;28mprint\u001b[39m(\u001b[43mpatient_data\u001b[49m\u001b[43m[\u001b[49m\u001b[38;5;124;43m\"\u001b[39;49m\u001b[38;5;124;43mJohn Doe\u001b[39;49m\u001b[38;5;124;43m\"\u001b[39;49m\u001b[43m]\u001b[49m)\n",
      "File \u001b[0;32m~/Repos/proiect-biochimie/.venv/lib/python3.10/site-packages/pandas/core/frame.py:4102\u001b[0m, in \u001b[0;36mDataFrame.__getitem__\u001b[0;34m(self, key)\u001b[0m\n\u001b[1;32m   4100\u001b[0m \u001b[38;5;28;01mif\u001b[39;00m \u001b[38;5;28mself\u001b[39m\u001b[38;5;241m.\u001b[39mcolumns\u001b[38;5;241m.\u001b[39mnlevels \u001b[38;5;241m>\u001b[39m \u001b[38;5;241m1\u001b[39m:\n\u001b[1;32m   4101\u001b[0m     \u001b[38;5;28;01mreturn\u001b[39;00m \u001b[38;5;28mself\u001b[39m\u001b[38;5;241m.\u001b[39m_getitem_multilevel(key)\n\u001b[0;32m-> 4102\u001b[0m indexer \u001b[38;5;241m=\u001b[39m \u001b[38;5;28;43mself\u001b[39;49m\u001b[38;5;241;43m.\u001b[39;49m\u001b[43mcolumns\u001b[49m\u001b[38;5;241;43m.\u001b[39;49m\u001b[43mget_loc\u001b[49m\u001b[43m(\u001b[49m\u001b[43mkey\u001b[49m\u001b[43m)\u001b[49m\n\u001b[1;32m   4103\u001b[0m \u001b[38;5;28;01mif\u001b[39;00m is_integer(indexer):\n\u001b[1;32m   4104\u001b[0m     indexer \u001b[38;5;241m=\u001b[39m [indexer]\n",
      "File \u001b[0;32m~/Repos/proiect-biochimie/.venv/lib/python3.10/site-packages/pandas/core/indexes/base.py:3812\u001b[0m, in \u001b[0;36mIndex.get_loc\u001b[0;34m(self, key)\u001b[0m\n\u001b[1;32m   3807\u001b[0m     \u001b[38;5;28;01mif\u001b[39;00m \u001b[38;5;28misinstance\u001b[39m(casted_key, \u001b[38;5;28mslice\u001b[39m) \u001b[38;5;129;01mor\u001b[39;00m (\n\u001b[1;32m   3808\u001b[0m         \u001b[38;5;28misinstance\u001b[39m(casted_key, abc\u001b[38;5;241m.\u001b[39mIterable)\n\u001b[1;32m   3809\u001b[0m         \u001b[38;5;129;01mand\u001b[39;00m \u001b[38;5;28many\u001b[39m(\u001b[38;5;28misinstance\u001b[39m(x, \u001b[38;5;28mslice\u001b[39m) \u001b[38;5;28;01mfor\u001b[39;00m x \u001b[38;5;129;01min\u001b[39;00m casted_key)\n\u001b[1;32m   3810\u001b[0m     ):\n\u001b[1;32m   3811\u001b[0m         \u001b[38;5;28;01mraise\u001b[39;00m InvalidIndexError(key)\n\u001b[0;32m-> 3812\u001b[0m     \u001b[38;5;28;01mraise\u001b[39;00m \u001b[38;5;167;01mKeyError\u001b[39;00m(key) \u001b[38;5;28;01mfrom\u001b[39;00m \u001b[38;5;21;01merr\u001b[39;00m\n\u001b[1;32m   3813\u001b[0m \u001b[38;5;28;01mexcept\u001b[39;00m \u001b[38;5;167;01mTypeError\u001b[39;00m:\n\u001b[1;32m   3814\u001b[0m     \u001b[38;5;66;03m# If we have a listlike key, _check_indexing_error will raise\u001b[39;00m\n\u001b[1;32m   3815\u001b[0m     \u001b[38;5;66;03m#  InvalidIndexError. Otherwise we fall through and re-raise\u001b[39;00m\n\u001b[1;32m   3816\u001b[0m     \u001b[38;5;66;03m#  the TypeError.\u001b[39;00m\n\u001b[1;32m   3817\u001b[0m     \u001b[38;5;28mself\u001b[39m\u001b[38;5;241m.\u001b[39m_check_indexing_error(key)\n",
      "\u001b[0;31mKeyError\u001b[0m: 'John Doe'"
     ]
    }
   ],
   "source": [
    "def get_sheets(patient_data:pd.DataFrame):\n",
    "    sheets = os.listdir(\"data\")\n",
    "    # print(f\"{sheets=}\")\n",
    "    for name in sheets:\n",
    "        # print(f\"{name=}\")\n",
    "        if name.endswith(\".xlsx\"):\n",
    "            if \"codes\" in name:\n",
    "                patient_data = pd.read_excel(f\"data/{name}\").set_index(\"Name\")\n",
    "                \n",
    "                print(patient_data)\n",
    "                print(\"Here\")\n",
    "            if \"group\" in name:\n",
    "                group_dict[name.replace(\".xlsx\", \"\").replace(\"group\", \"\").strip()] = pd.read_excel(f\"data/{name}\").set_index(\"Patient Code\")\n",
    "patient_data = pd.DataFrame()\n",
    "get_sheets(patient_data)\n",
    "\n",
    "\n",
    "# print(group_dict[\"Anemia\"])\n",
    "print(patient_data[\"John Doe\"])"
   ]
  },
  {
   "cell_type": "code",
   "execution_count": 8,
   "metadata": {},
   "outputs": [
    {
     "name": "stdout",
     "output_type": "stream",
     "text": [
      "['John Doe' 'Jane Smith' 'Alice Johnson' 'Bob Brown' 'Carol White'\n",
      " 'David Green' 'Eva Black' 'Frank Moore' 'Grace Miller' 'Henry Wilson'\n",
      " 'Ian Taylor' 'Jill Anderson' 'Kevin Thomas' 'Laura Harris'\n",
      " 'Michael Martin' 'Nancy Clark' 'Oscar Lewis' 'Paula Walker'\n",
      " 'Quentin Hall' 'Rachel Allen' 'Steve Young' 'Tina King' 'Uma Scott'\n",
      " 'Victor Hill' 'Wendy Adams' 'Xavier Baker' 'Yolanda Perez' 'Zachary Lee'\n",
      " 'Abigail Turner' 'Brian Harris']\n"
     ]
    }
   ],
   "source": [
    "# df.loc[df['A'] == 'foo']\n",
    "# print(patient_data.loc[\"John Doe\"])\n",
    "print(patient_data.index.values)"
   ]
  },
  {
   "cell_type": "markdown",
   "metadata": {},
   "source": []
  },
  {
   "cell_type": "code",
   "execution_count": null,
   "metadata": {},
   "outputs": [],
   "source": [
    "test_set = set([x for group in groups_dict.values() for x in list(group.columns)])\n",
    "\n",
    "tmp_list = []\n",
    "for group in group_dict.values():\n",
    "    for names in list(group.columns):\n",
    "        tmp_list.extend(names)\n",
    "\n",
    "tmp_list = set(tmp_list)"
   ]
  },
  {
   "cell_type": "code",
   "execution_count": 44,
   "metadata": {},
   "outputs": [
    {
     "name": "stdout",
     "output_type": "stream",
     "text": [
      "Group: Diabetes\n",
      "Group: Anemia\n",
      "Group: Control\n",
      "HDL (mg/dL)                   52.0\n",
      "LDL (mg/dL)                  110.0\n",
      "Total Cholesterol (mg/dL)    180.0\n",
      "Triglycerides (mg/dL)        110.0\n",
      "Glycemia (mg/dL)              85.0\n",
      "GPT (U/L)                     30.0\n",
      "GGT (U/L)                     22.0\n",
      "Iron (µg/dL)                 120.0\n",
      "Magnesium (mg/dL)              2.0\n",
      "Calcium (mg/dL)                9.5\n",
      "Name: 43921, dtype: float64\n"
     ]
    }
   ],
   "source": [
    "for k,v in group_dict.items():\n",
    "    try:\n",
    "        print(f\"Group: {k}\")\n",
    "        print(v.loc[43921])\n",
    "        \n",
    "    except:\n",
    "        pass"
   ]
  }
 ],
 "metadata": {
  "kernelspec": {
   "display_name": ".venv",
   "language": "python",
   "name": "python3"
  },
  "language_info": {
   "codemirror_mode": {
    "name": "ipython",
    "version": 3
   },
   "file_extension": ".py",
   "mimetype": "text/x-python",
   "name": "python",
   "nbconvert_exporter": "python",
   "pygments_lexer": "ipython3",
   "version": "3.10.12"
  }
 },
 "nbformat": 4,
 "nbformat_minor": 2
}
